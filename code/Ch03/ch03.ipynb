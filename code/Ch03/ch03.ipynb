{
 "cells": [
  {
   "cell_type": "code",
   "execution_count": 1,
   "metadata": {},
   "outputs": [],
   "source": [
    "from pyspark.sql import SparkSession\n",
    "import pyspark.sql.functions as F"
   ]
  },
  {
   "cell_type": "code",
   "execution_count": 2,
   "metadata": {},
   "outputs": [],
   "source": [
    "spark = (SparkSession\n",
    "         .builder\n",
    "         .config(\"spark.sql.repl.eagerEval.enabled\", \"True\")\n",
    "         .getOrCreate())"
   ]
  },
  {
   "cell_type": "code",
   "execution_count": 3,
   "metadata": {},
   "outputs": [
    {
     "data": {
      "text/html": [
       "<table border='1'>\n",
       "<tr><th>word</th><th>count</th></tr>\n",
       "<tr><td>the</td><td>4480</td></tr>\n",
       "<tr><td>to</td><td>4218</td></tr>\n",
       "<tr><td>of</td><td>3711</td></tr>\n",
       "<tr><td>and</td><td>3504</td></tr>\n",
       "<tr><td>her</td><td>2199</td></tr>\n",
       "<tr><td>a</td><td>1982</td></tr>\n",
       "<tr><td>in</td><td>1909</td></tr>\n",
       "<tr><td>was</td><td>1838</td></tr>\n",
       "<tr><td>i</td><td>1750</td></tr>\n",
       "<tr><td>she</td><td>1668</td></tr>\n",
       "<tr><td>that</td><td>1487</td></tr>\n",
       "<tr><td>it</td><td>1482</td></tr>\n",
       "<tr><td>not</td><td>1427</td></tr>\n",
       "<tr><td>you</td><td>1301</td></tr>\n",
       "<tr><td>he</td><td>1296</td></tr>\n",
       "<tr><td>be</td><td>1257</td></tr>\n",
       "<tr><td>his</td><td>1247</td></tr>\n",
       "<tr><td>as</td><td>1174</td></tr>\n",
       "<tr><td>had</td><td>1170</td></tr>\n",
       "<tr><td>with</td><td>1092</td></tr>\n",
       "</table>\n",
       "only showing top 20 rows\n"
      ],
      "text/plain": [
       "+----+-----+\n",
       "|word|count|\n",
       "+----+-----+\n",
       "| the| 4480|\n",
       "|  to| 4218|\n",
       "|  of| 3711|\n",
       "| and| 3504|\n",
       "| her| 2199|\n",
       "|   a| 1982|\n",
       "|  in| 1909|\n",
       "| was| 1838|\n",
       "|   i| 1750|\n",
       "| she| 1668|\n",
       "|that| 1487|\n",
       "|  it| 1482|\n",
       "| not| 1427|\n",
       "| you| 1301|\n",
       "|  he| 1296|\n",
       "|  be| 1257|\n",
       "| his| 1247|\n",
       "|  as| 1174|\n",
       "| had| 1170|\n",
       "|with| 1092|\n",
       "+----+-----+\n",
       "only showing top 20 rows"
      ]
     },
     "execution_count": 3,
     "metadata": {},
     "output_type": "execute_result"
    }
   ],
   "source": [
    "results = (\n",
    "    spark.read.text(\"../../data/gutenberg_books/1342-0.txt\")\n",
    "    .select(F.split(F.col(\"value\"), \" \").alias(\"line\"))\n",
    "    .select(F.explode(F.col(\"line\")).alias(\"word\"))\n",
    "    .select(F.lower(F.col(\"word\")).alias(\"word_lower\"))\n",
    "    .select(F.regexp_extract(F.col(\"word_lower\"), \"[a-z]*\", 0).alias(\"word\"))\n",
    "    .where(F.col(\"word\") != \"\")\n",
    "    .groupby(F.col(\"word\")).count()\n",
    "    .orderBy(\"count\", ascending=False)\n",
    "    )\n",
    "results"
   ]
  },
  {
   "cell_type": "code",
   "execution_count": null,
   "metadata": {},
   "outputs": [],
   "source": []
  }
 ],
 "metadata": {
  "kernelspec": {
   "display_name": "base",
   "language": "python",
   "name": "python3"
  },
  "language_info": {
   "codemirror_mode": {
    "name": "ipython",
    "version": 3
   },
   "file_extension": ".py",
   "mimetype": "text/x-python",
   "name": "python",
   "nbconvert_exporter": "python",
   "pygments_lexer": "ipython3",
   "version": "3.11.6"
  }
 },
 "nbformat": 4,
 "nbformat_minor": 2
}
