{
 "cells": [
  {
   "cell_type": "code",
   "execution_count": 1,
   "metadata": {},
   "outputs": [],
   "source": [
    "\"\"\"Checkpoint code for the book Data Analysis with Python and PySpark, Chapter 4.\"\"\"\n",
    "\n",
    "import os\n",
    "import numpy as np\n",
    "from pyspark.sql import SparkSession\n",
    "import pyspark.sql.functions as F"
   ]
  },
  {
   "cell_type": "code",
   "execution_count": 15,
   "metadata": {},
   "outputs": [],
   "source": [
    "def split_table(df, sections, records):\n",
    "    col_split = np.array_split(np.array(df.columns), sections)\n",
    "    for x in col_split:\n",
    "        df.select(*x).show(records, False)"
   ]
  },
  {
   "cell_type": "code",
   "execution_count": 3,
   "metadata": {},
   "outputs": [],
   "source": [
    "spark = SparkSession.builder.appName(\n",
    "    \"Getting the Canadian TV channels with the highest/lowest proportion of commercials.\"\n",
    ").getOrCreate()"
   ]
  },
  {
   "cell_type": "code",
   "execution_count": 4,
   "metadata": {},
   "outputs": [],
   "source": [
    "DIRECTORY = \"../../data/broadcast_logs\""
   ]
  },
  {
   "cell_type": "code",
   "execution_count": 5,
   "metadata": {},
   "outputs": [],
   "source": [
    "logs = (\n",
    "    spark.read.csv(\n",
    "        os.path.join(DIRECTORY, \"BroadcastLogs_2018_Q3_M8.CSV\"),\n",
    "        sep=\"|\",\n",
    "        header=True,\n",
    "        inferSchema=True,\n",
    "        timestampFormat=\"yyyy-MM-dd\",\n",
    "    )\n",
    "    .drop(\"BroadcastLogID\", \"SequenceNO\")\n",
    "    .withColumn(\n",
    "        \"duration_seconds\",\n",
    "        (\n",
    "            F.col(\"Duration\").substr(1, 2).cast(\"int\") * 60 * 60\n",
    "            + F.col(\"Duration\").substr(4, 2).cast(\"int\") * 60\n",
    "            + F.col(\"Duration\").substr(7, 2).cast(\"int\")\n",
    "        ),\n",
    "    )\n",
    ")"
   ]
  },
  {
   "cell_type": "code",
   "execution_count": 6,
   "metadata": {},
   "outputs": [],
   "source": [
    "log_identifier = spark.read.csv(\n",
    "    os.path.join(DIRECTORY, \"ReferenceTables/LogIdentifier.csv\"),\n",
    "    sep=\"|\",\n",
    "    header=True,\n",
    "    inferSchema=True,\n",
    ")"
   ]
  },
  {
   "cell_type": "code",
   "execution_count": 7,
   "metadata": {},
   "outputs": [],
   "source": [
    "log_identifier = log_identifier.where(F.col(\"PrimaryFG\") == 1)"
   ]
  },
  {
   "cell_type": "code",
   "execution_count": 8,
   "metadata": {},
   "outputs": [],
   "source": [
    "logs_and_channels = logs.join(log_identifier, on=\"LogServiceID\", how=\"inner\")"
   ]
  },
  {
   "cell_type": "code",
   "execution_count": 9,
   "metadata": {},
   "outputs": [],
   "source": [
    "logs_and_channels_verbose = (\n",
    "    logs.alias(\"left\")\n",
    "    .join(\n",
    "        log_identifier.alias(\"right\"),\n",
    "        on=logs[\"LogServiceID\"] == log_identifier[\"LogServiceID\"],\n",
    "    )\n",
    "    .drop(F.col(\"right.LogServiceID\"))\n",
    ")"
   ]
  },
  {
   "cell_type": "code",
   "execution_count": 10,
   "metadata": {},
   "outputs": [],
   "source": [
    "cd_category = spark.read.csv(\n",
    "    os.path.join(DIRECTORY, \"ReferenceTables/CD_Category.csv\"),\n",
    "    sep=\"|\",\n",
    "    header=True,\n",
    "    inferSchema=True,\n",
    ").select(\n",
    "    \"CategoryID\",\n",
    "    \"CategoryCD\",\n",
    "    F.col(\"EnglishDescription\").alias(\"Category_Description\"),\n",
    ")"
   ]
  },
  {
   "cell_type": "code",
   "execution_count": 11,
   "metadata": {},
   "outputs": [],
   "source": [
    "cd_program_class = spark.read.csv(\n",
    "    os.path.join(DIRECTORY, \"ReferenceTables/CD_ProgramClass.csv\"),\n",
    "    sep=\"|\",\n",
    "    header=True,\n",
    "    inferSchema=True,\n",
    ").select(\n",
    "    \"ProgramClassID\",\n",
    "    \"ProgramClassCD\",\n",
    "    F.col(\"EnglishDescription\").alias(\"ProgramClass_Description\"),\n",
    ")"
   ]
  },
  {
   "cell_type": "code",
   "execution_count": 21,
   "metadata": {},
   "outputs": [],
   "source": [
    "full_log = logs_and_channels.join(cd_category, on=\"CategoryID\", how=\"left\").join(\n",
    "    cd_program_class, on=\"ProgramClassID\", how=\"left\"\n",
    ")"
   ]
  },
  {
   "cell_type": "code",
   "execution_count": 17,
   "metadata": {},
   "outputs": [
    {
     "name": "stdout",
     "output_type": "stream",
     "text": [
      "+--------------+----------+------------+----------+-------------------+----------------------+---------------+-----------------+----------------+\n",
      "|ProgramClassID|CategoryID|LogServiceID|LogDate   |AudienceTargetAgeID|AudienceTargetEthnicID|ClosedCaptionID|CountryOfOriginID|DubDramaCreditID|\n",
      "+--------------+----------+------------+----------+-------------------+----------------------+---------------+-----------------+----------------+\n",
      "|19            |13        |3157        |2018-08-01|4                  |NULL                  |3              |3                |NULL            |\n",
      "|20            |NULL      |3157        |2018-08-01|NULL               |NULL                  |1              |NULL             |NULL            |\n",
      "|3             |NULL      |3157        |2018-08-01|NULL               |NULL                  |1              |NULL             |NULL            |\n",
      "|3             |NULL      |3157        |2018-08-01|NULL               |NULL                  |1              |NULL             |NULL            |\n",
      "|3             |NULL      |3157        |2018-08-01|NULL               |NULL                  |1              |NULL             |NULL            |\n",
      "|3             |NULL      |3157        |2018-08-01|NULL               |NULL                  |1              |NULL             |NULL            |\n",
      "|3             |NULL      |3157        |2018-08-01|NULL               |NULL                  |1              |NULL             |NULL            |\n",
      "|3             |NULL      |3157        |2018-08-01|NULL               |NULL                  |1              |NULL             |NULL            |\n",
      "|3             |NULL      |3157        |2018-08-01|NULL               |NULL                  |1              |NULL             |NULL            |\n",
      "|3             |NULL      |3157        |2018-08-01|NULL               |NULL                  |1              |NULL             |NULL            |\n",
      "+--------------+----------+------------+----------+-------------------+----------------------+---------------+-----------------+----------------+\n",
      "only showing top 10 rows\n",
      "\n",
      "+---------------+------------------+--------------------+------------+----------------+----------------+------------+------------+--------------------------------------------------+\n",
      "|EthnicProgramID|ProductionSourceID|FilmClassificationID|ExhibitionID|Duration        |EndTime         |LogEntryDate|ProductionNO|ProgramTitle                                      |\n",
      "+---------------+------------------+--------------------+------------+----------------+----------------+------------+------------+--------------------------------------------------+\n",
      "|NULL           |10                |NULL                |2           |02:00:00.0000000|08:00:00.0000000|2018-08-01  |A39082      |Newlywed and Dead                                 |\n",
      "|NULL           |NULL              |NULL                |NULL        |00:00:30.0000000|06:13:45.0000000|2018-08-01  |NULL        |15-SPECIALTY CHANNELS-Canadian Generic            |\n",
      "|NULL           |NULL              |NULL                |NULL        |00:00:15.0000000|06:14:00.0000000|2018-08-01  |NULL        |3-PROCTER & GAMBLE INC-Anti-Perspirant 3rd        |\n",
      "|NULL           |NULL              |NULL                |NULL        |00:00:15.0000000|06:14:15.0000000|2018-08-01  |NULL        |12-CREDIT KARMA-Bank/Credit Union/Trust 3rd       |\n",
      "|NULL           |NULL              |NULL                |NULL        |00:00:15.0000000|06:14:30.0000000|2018-08-01  |NULL        |3-L'OREAL CANADA-Hair Products 3rd                |\n",
      "|NULL           |NULL              |NULL                |NULL        |00:00:15.0000000|06:14:45.0000000|2018-08-01  |NULL        |11-YUM! BRANDS-Chicken Fast Food 3rd              |\n",
      "|NULL           |NULL              |NULL                |NULL        |00:00:30.0000000|06:15:16.0000000|2018-08-01  |NULL        |2-PIER 1 IMPORTS INC-Furniture- General Retail 3rd|\n",
      "|NULL           |NULL              |NULL                |NULL        |00:00:15.0000000|06:15:31.0000000|2018-08-01  |NULL        |3-HAVAS EDGE-Travel Agents 3rd                    |\n",
      "|NULL           |NULL              |NULL                |NULL        |00:00:15.0000000|06:15:46.0000000|2018-08-01  |NULL        |2-AUTOTRADER-Internet Products and Services 3rd   |\n",
      "|NULL           |NULL              |NULL                |NULL        |00:00:15.0000000|06:16:01.0000000|2018-08-01  |NULL        |11-SLEEP COUNTRY CANADA-Mattresses 3rd            |\n",
      "+---------------+------------------+--------------------+------------+----------------+----------------+------------+------------+--------------------------------------------------+\n",
      "only showing top 10 rows\n",
      "\n",
      "+----------------+--------+--------------------+------------------+----------------------+-------------+---------+---------+---------+\n",
      "|StartTime       |Subtitle|NetworkAffiliationID|SpecialAttentionID|BroadcastOriginPointID|CompositionID|Producer1|Producer2|Language1|\n",
      "+----------------+--------+--------------------+------------------+----------------------+-------------+---------+---------+---------+\n",
      "|06:00:00.0000000|NULL    |NULL                |NULL              |NULL                  |NULL         |NULL     |NULL     |94       |\n",
      "|06:13:15.0000000|NULL    |NULL                |NULL              |NULL                  |NULL         |NULL     |NULL     |NULL     |\n",
      "|06:13:45.0000000|NULL    |NULL                |NULL              |NULL                  |NULL         |NULL     |NULL     |NULL     |\n",
      "|06:14:00.0000000|NULL    |NULL                |NULL              |NULL                  |NULL         |NULL     |NULL     |NULL     |\n",
      "|06:14:15.0000000|NULL    |NULL                |NULL              |NULL                  |NULL         |NULL     |NULL     |NULL     |\n",
      "|06:14:30.0000000|NULL    |NULL                |NULL              |NULL                  |NULL         |NULL     |NULL     |NULL     |\n",
      "|06:14:46.0000000|NULL    |NULL                |NULL              |NULL                  |NULL         |NULL     |NULL     |NULL     |\n",
      "|06:15:16.0000000|NULL    |NULL                |NULL              |NULL                  |NULL         |NULL     |NULL     |NULL     |\n",
      "|06:15:31.0000000|NULL    |NULL                |NULL              |NULL                  |NULL         |NULL     |NULL     |NULL     |\n",
      "|06:15:46.0000000|NULL    |NULL                |NULL              |NULL                  |NULL         |NULL     |NULL     |NULL     |\n",
      "+----------------+--------+--------------------+------------------+----------------------+-------------+---------+---------+---------+\n",
      "only showing top 10 rows\n",
      "\n",
      "+---------+----------------+---------------+---------+----------+------------------------------------------------+--------------+--------------------------------------+\n",
      "|Language2|duration_seconds|LogIdentifierID|PrimaryFG|CategoryCD|Category_Description                            |ProgramClassCD|ProgramClass_Description              |\n",
      "+---------+----------------+---------------+---------+----------+------------------------------------------------+--------------+--------------------------------------+\n",
      "|NULL     |7200            |13ST           |1        |07C       |SPECIALS,MINI-SERIES & MADE-FOR-TV FEATURE FILMS|PGR           |PROGRAM                               |\n",
      "|NULL     |30              |13ST           |1        |NULL      |NULL                                            |PRC           |PROMOTION OF UPCOMING CANADIAN PROGRAM|\n",
      "|NULL     |15              |13ST           |1        |NULL      |NULL                                            |COM           |COMMERCIAL MESSAGE                    |\n",
      "|NULL     |15              |13ST           |1        |NULL      |NULL                                            |COM           |COMMERCIAL MESSAGE                    |\n",
      "|NULL     |15              |13ST           |1        |NULL      |NULL                                            |COM           |COMMERCIAL MESSAGE                    |\n",
      "|NULL     |15              |13ST           |1        |NULL      |NULL                                            |COM           |COMMERCIAL MESSAGE                    |\n",
      "|NULL     |30              |13ST           |1        |NULL      |NULL                                            |COM           |COMMERCIAL MESSAGE                    |\n",
      "|NULL     |15              |13ST           |1        |NULL      |NULL                                            |COM           |COMMERCIAL MESSAGE                    |\n",
      "|NULL     |15              |13ST           |1        |NULL      |NULL                                            |COM           |COMMERCIAL MESSAGE                    |\n",
      "|NULL     |15              |13ST           |1        |NULL      |NULL                                            |COM           |COMMERCIAL MESSAGE                    |\n",
      "+---------+----------------+---------------+---------+----------+------------------------------------------------+--------------+--------------------------------------+\n",
      "only showing top 10 rows\n",
      "\n"
     ]
    }
   ],
   "source": [
    "split_table(full_log, 4, 10)"
   ]
  },
  {
   "cell_type": "code",
   "execution_count": null,
   "metadata": {},
   "outputs": [],
   "source": []
  }
 ],
 "metadata": {
  "kernelspec": {
   "display_name": "base",
   "language": "python",
   "name": "python3"
  },
  "language_info": {
   "codemirror_mode": {
    "name": "ipython",
    "version": 3
   },
   "file_extension": ".py",
   "mimetype": "text/x-python",
   "name": "python",
   "nbconvert_exporter": "python",
   "pygments_lexer": "ipython3",
   "version": "3.11.6"
  }
 },
 "nbformat": 4,
 "nbformat_minor": 2
}
